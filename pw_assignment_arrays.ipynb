{
  "nbformat": 4,
  "nbformat_minor": 0,
  "metadata": {
    "colab": {
      "provenance": []
    },
    "kernelspec": {
      "name": "python3",
      "display_name": "Python 3"
    },
    "language_info": {
      "name": "python"
    }
  },
  "cells": [
    {
      "cell_type": "code",
      "execution_count": 1,
      "metadata": {
        "colab": {
          "base_uri": "https://localhost:8080/"
        },
        "id": "srjT2Y5MiUfc",
        "outputId": "08273b00-bf7e-4b48-8955-ab8e4e18b452"
      },
      "outputs": [
        {
          "output_type": "stream",
          "name": "stdout",
          "text": [
            "True\n"
          ]
        }
      ],
      "source": [
        "# Question: 1. Given an array, check if it contains any duplicates or not.\n",
        "# arr = [1, 2, 4, 2, 5, 9]\n",
        "# Output = True\n",
        "\n",
        "def contains_duplicates(arr):\n",
        "  \"\"\"\n",
        "  Checks if an array contains any duplicates.\n",
        "\n",
        "  Args:\n",
        "    arr: The input array.\n",
        "\n",
        "  Returns:\n",
        "    True if the array contains duplicates, False otherwise.\n",
        "  \"\"\"\n",
        "  seen = set()\n",
        "  for num in arr:\n",
        "    if num in seen:\n",
        "      return True\n",
        "    seen.add(num)\n",
        "  return False\n",
        "\n",
        "# Example usage\n",
        "arr = [1, 2, 4, 2, 5, 9]\n",
        "output = contains_duplicates(arr)\n",
        "print(output)  # Output: True\n"
      ]
    },
    {
      "cell_type": "code",
      "source": [
        "# Question: 2. Given an array and an integer k, rotate the array to the right by k steps.\n",
        "# arr = [1, 2, 3, 4, 5, 6, 7] k = 3\n",
        "# Output = [5, 6, 7, 1, 2, 3, 4]\n",
        "\n",
        "def rotate_array(arr, k):\n",
        "  \"\"\"\n",
        "  Rotates an array to the right by k steps.\n",
        "\n",
        "  Args:\n",
        "    arr: The input array.\n",
        "    k: The number of steps to rotate.\n",
        "\n",
        "  Returns:\n",
        "    The rotated array.\n",
        "  \"\"\"\n",
        "  n = len(arr)\n",
        "  k = k % n  # Handle cases where k is greater than the length of the array\n",
        "  rotated_arr = arr[-k:] + arr[:-k]\n",
        "  return rotated_arr\n",
        "\n",
        "# Example usage\n",
        "arr = [1, 2, 3, 4, 5, 6, 7]\n",
        "k = 3\n",
        "output = rotate_array(arr, k)\n",
        "print(output)  # Output: [5, 6, 7, 1, 2, 3, 4]\n"
      ],
      "metadata": {
        "colab": {
          "base_uri": "https://localhost:8080/"
        },
        "id": "erCPoSSAi9lA",
        "outputId": "49d94ec4-b10a-4f13-f68b-c9dd3d164ea5"
      },
      "execution_count": 2,
      "outputs": [
        {
          "output_type": "stream",
          "name": "stdout",
          "text": [
            "[5, 6, 7, 1, 2, 3, 4]\n"
          ]
        }
      ]
    },
    {
      "cell_type": "code",
      "source": [
        "# Question: 3. Reverse the given array in-place, means without using any extra data structure.\n",
        "# arr = [2, 4, 5, 7, 9, 12]\n",
        "# Output = [12, 9, 7, 5, 4, 2]\n",
        "\n",
        "def reverse_array_in_place(arr):\n",
        "  \"\"\"\n",
        "  Reverses the given array in-place.\n",
        "\n",
        "  Args:\n",
        "    arr: The input array.\n",
        "\n",
        "  Returns:\n",
        "    The reversed array.\n",
        "  \"\"\"\n",
        "  start = 0\n",
        "  end = len(arr) - 1\n",
        "  while start < end:\n",
        "    arr[start], arr[end] = arr[end], arr[start]\n",
        "    start += 1\n",
        "    end -= 1\n",
        "  return arr\n",
        "\n",
        "# Example usage\n",
        "arr = [2, 4, 5, 7, 9, 12]\n",
        "output = reverse_array_in_place(arr)\n",
        "print(output)  # Output: [12, 9, 7, 5, 4, 2]\n"
      ],
      "metadata": {
        "colab": {
          "base_uri": "https://localhost:8080/"
        },
        "id": "XKHhn0DwjEE-",
        "outputId": "f7c3591a-33dd-43dc-970c-9062f23aa45d"
      },
      "execution_count": 3,
      "outputs": [
        {
          "output_type": "stream",
          "name": "stdout",
          "text": [
            "[12, 9, 7, 5, 4, 2]\n"
          ]
        }
      ]
    },
    {
      "cell_type": "code",
      "source": [
        "# Question: 4. Given an array of integers, find the maximum element in an array\n",
        "# arr = [10, 5, 20, 8, 15]\n",
        "# Output = 20\n",
        "\n",
        "def find_max_element(arr):\n",
        "  \"\"\"\n",
        "  Finds the maximum element in an array.\n",
        "\n",
        "  Args:\n",
        "    arr: The input array.\n",
        "\n",
        "  Returns:\n",
        "    The maximum element in the array.\n",
        "  \"\"\"\n",
        "  if not arr:\n",
        "    return None  # Return None if the array is empty\n",
        "\n",
        "  max_element = arr[0]\n",
        "  for num in arr:\n",
        "    if num > max_element:\n",
        "      max_element = num\n",
        "  return max_element\n",
        "\n",
        "# Example usage\n",
        "arr = [10, 5, 20, 8, 15]\n",
        "output = find_max_element(arr)\n",
        "print(output)  # Output: 20\n"
      ],
      "metadata": {
        "colab": {
          "base_uri": "https://localhost:8080/"
        },
        "id": "qfzAEXf8jIGC",
        "outputId": "2582477a-ca46-4392-dde5-38ac8620c2ac"
      },
      "execution_count": 4,
      "outputs": [
        {
          "output_type": "stream",
          "name": "stdout",
          "text": [
            "20\n"
          ]
        }
      ]
    },
    {
      "cell_type": "code",
      "source": [
        "# Question: 5. Given a sorted array, remove the duplicate element without using any extra data structure.\n",
        "# arr = [1, 1, 2, 2, 2, 3, 3, 4, 4, 4, 5, 5]\n",
        "# Output = [1, 2, 3, 4, 5]\n",
        "\n",
        "def remove_duplicates_in_place(arr):\n",
        "  \"\"\"\n",
        "  Removes duplicate elements from a sorted array in-place.\n",
        "\n",
        "  Args:\n",
        "    arr: The input sorted array.\n",
        "\n",
        "  Returns:\n",
        "    The array with duplicates removed.\n",
        "  \"\"\"\n",
        "  if not arr:\n",
        "    return arr\n",
        "\n",
        "  unique_index = 1\n",
        "  for i in range(1, len(arr)):\n",
        "    if arr[i] != arr[i - 1]:\n",
        "      arr[unique_index] = arr[i]\n",
        "      unique_index += 1\n",
        "\n",
        "  return arr[:unique_index]\n",
        "\n",
        "# Example usage\n",
        "arr = [1, 1, 2, 2, 2, 3, 3, 4, 4, 4, 5, 5]\n",
        "output = remove_duplicates_in_place(arr)\n",
        "print(output)  # Output: [1, 2, 3, 4, 5]\n"
      ],
      "metadata": {
        "colab": {
          "base_uri": "https://localhost:8080/"
        },
        "id": "Iqyw78B4jKH7",
        "outputId": "2cc0ff61-f833-4cda-ce49-47f7921ebe3b"
      },
      "execution_count": 5,
      "outputs": [
        {
          "output_type": "stream",
          "name": "stdout",
          "text": [
            "[1, 2, 3, 4, 5]\n"
          ]
        }
      ]
    }
  ]
}